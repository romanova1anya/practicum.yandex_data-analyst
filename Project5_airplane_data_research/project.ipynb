{
 "cells": [
  {
   "cell_type": "markdown",
   "metadata": {},
   "source": [
    "# Исследование данных авиакомпании"
   ]
  },
  {
   "cell_type": "markdown",
   "metadata": {},
   "source": [
    "### Задача:\n",
    "\n",
    "Необходимо проанализировать данные двух наборов данных.\n",
    "\n",
    "\n",
    "### Исходные данные:\n",
    "\n",
    "У нас есть файлы, в которых содержатся результаты ранее выполненных запросов.\n",
    "\n",
    "**/datasets/query_1.csv** — результат первого запроса. В нём содержится информация о:\n",
    "* model — модели самолета\n",
    "* flights_amount — количество рейсов для каждой модели самолетов model в сентябре 2018 года\n",
    "\n",
    "**/datasets/query_3.csv** — результат третьего запроса. В нём содержится информация о:\n",
    "* city — городах\n",
    "* average_flights — среднем количестве рейсов, прибывающих в город city за день в августе 2018 года\n",
    "\n",
    "\n",
    "### План работы:\n",
    "\n",
    "1. импортируем файлы;\n",
    "2. изучим данные в них и проверим типы данных на корректность;\n",
    "4. выберем топ-10 городов по количеству рейсов;\n",
    "5. построим графики: модели самолетов и количество рейсов, города и количество рейсов, топ-10 городов и количество рейсов;\n",
    "6. Выводы по каждому из графиков, пояснение результатов."
   ]
  },
  {
   "cell_type": "markdown",
   "metadata": {},
   "source": [
    "## Шаг 1. Импортируем файлы:"
   ]
  },
  {
   "cell_type": "code",
   "execution_count": 1,
   "metadata": {},
   "outputs": [],
   "source": [
    "import pandas as pd # импортируем библиотеку pandas\n",
    "import numpy as np # импортируем библиотеку numpy\n",
    "import matplotlib.pyplot as plt # импортируем модуль pyplot из matplotlib"
   ]
  },
  {
   "cell_type": "code",
   "execution_count": 2,
   "metadata": {},
   "outputs": [
    {
     "data": {
      "text/html": [
       "<div>\n",
       "<style scoped>\n",
       "    .dataframe tbody tr th:only-of-type {\n",
       "        vertical-align: middle;\n",
       "    }\n",
       "\n",
       "    .dataframe tbody tr th {\n",
       "        vertical-align: top;\n",
       "    }\n",
       "\n",
       "    .dataframe thead th {\n",
       "        text-align: right;\n",
       "    }\n",
       "</style>\n",
       "<table border=\"1\" class=\"dataframe\">\n",
       "  <thead>\n",
       "    <tr style=\"text-align: right;\">\n",
       "      <th></th>\n",
       "      <th>model</th>\n",
       "      <th>flights_amount</th>\n",
       "    </tr>\n",
       "  </thead>\n",
       "  <tbody>\n",
       "    <tr>\n",
       "      <td>0</td>\n",
       "      <td>Airbus A319-100</td>\n",
       "      <td>607</td>\n",
       "    </tr>\n",
       "    <tr>\n",
       "      <td>1</td>\n",
       "      <td>Airbus A321-200</td>\n",
       "      <td>960</td>\n",
       "    </tr>\n",
       "    <tr>\n",
       "      <td>2</td>\n",
       "      <td>Boeing 737-300</td>\n",
       "      <td>630</td>\n",
       "    </tr>\n",
       "    <tr>\n",
       "      <td>3</td>\n",
       "      <td>Boeing 767-300</td>\n",
       "      <td>600</td>\n",
       "    </tr>\n",
       "    <tr>\n",
       "      <td>4</td>\n",
       "      <td>Boeing 777-300</td>\n",
       "      <td>300</td>\n",
       "    </tr>\n",
       "    <tr>\n",
       "      <td>5</td>\n",
       "      <td>Bombardier CRJ-200</td>\n",
       "      <td>4446</td>\n",
       "    </tr>\n",
       "    <tr>\n",
       "      <td>6</td>\n",
       "      <td>Cessna 208 Caravan</td>\n",
       "      <td>4557</td>\n",
       "    </tr>\n",
       "    <tr>\n",
       "      <td>7</td>\n",
       "      <td>Sukhoi SuperJet-100</td>\n",
       "      <td>4185</td>\n",
       "    </tr>\n",
       "  </tbody>\n",
       "</table>\n",
       "</div>"
      ],
      "text/plain": [
       "                 model  flights_amount\n",
       "0      Airbus A319-100             607\n",
       "1      Airbus A321-200             960\n",
       "2       Boeing 737-300             630\n",
       "3       Boeing 767-300             600\n",
       "4       Boeing 777-300             300\n",
       "5   Bombardier CRJ-200            4446\n",
       "6   Cessna 208 Caravan            4557\n",
       "7  Sukhoi SuperJet-100            4185"
      ]
     },
     "execution_count": 2,
     "metadata": {},
     "output_type": "execute_result"
    }
   ],
   "source": [
    "df_model = pd.read_csv('/datasets/query_1.csv') # прочитаем файл csv и сохраним данные в таблицу df_model\n",
    "df_model"
   ]
  },
  {
   "cell_type": "code",
   "execution_count": 3,
   "metadata": {},
   "outputs": [
    {
     "data": {
      "text/html": [
       "<div>\n",
       "<style scoped>\n",
       "    .dataframe tbody tr th:only-of-type {\n",
       "        vertical-align: middle;\n",
       "    }\n",
       "\n",
       "    .dataframe tbody tr th {\n",
       "        vertical-align: top;\n",
       "    }\n",
       "\n",
       "    .dataframe thead th {\n",
       "        text-align: right;\n",
       "    }\n",
       "</style>\n",
       "<table border=\"1\" class=\"dataframe\">\n",
       "  <thead>\n",
       "    <tr style=\"text-align: right;\">\n",
       "      <th></th>\n",
       "      <th>city</th>\n",
       "      <th>average_flights</th>\n",
       "    </tr>\n",
       "  </thead>\n",
       "  <tbody>\n",
       "    <tr>\n",
       "      <td>0</td>\n",
       "      <td>Абакан</td>\n",
       "      <td>3.870968</td>\n",
       "    </tr>\n",
       "    <tr>\n",
       "      <td>1</td>\n",
       "      <td>Анадырь</td>\n",
       "      <td>1.000000</td>\n",
       "    </tr>\n",
       "    <tr>\n",
       "      <td>2</td>\n",
       "      <td>Анапа</td>\n",
       "      <td>2.161290</td>\n",
       "    </tr>\n",
       "    <tr>\n",
       "      <td>3</td>\n",
       "      <td>Архангельск</td>\n",
       "      <td>5.354839</td>\n",
       "    </tr>\n",
       "    <tr>\n",
       "      <td>4</td>\n",
       "      <td>Астрахань</td>\n",
       "      <td>2.451613</td>\n",
       "    </tr>\n",
       "    <tr>\n",
       "      <td>...</td>\n",
       "      <td>...</td>\n",
       "      <td>...</td>\n",
       "    </tr>\n",
       "    <tr>\n",
       "      <td>96</td>\n",
       "      <td>Чита</td>\n",
       "      <td>1.580645</td>\n",
       "    </tr>\n",
       "    <tr>\n",
       "      <td>97</td>\n",
       "      <td>Элиста</td>\n",
       "      <td>4.870968</td>\n",
       "    </tr>\n",
       "    <tr>\n",
       "      <td>98</td>\n",
       "      <td>Южно-Сахалинск</td>\n",
       "      <td>4.290323</td>\n",
       "    </tr>\n",
       "    <tr>\n",
       "      <td>99</td>\n",
       "      <td>Якутск</td>\n",
       "      <td>2.741935</td>\n",
       "    </tr>\n",
       "    <tr>\n",
       "      <td>100</td>\n",
       "      <td>Ярославль</td>\n",
       "      <td>1.322581</td>\n",
       "    </tr>\n",
       "  </tbody>\n",
       "</table>\n",
       "<p>101 rows × 2 columns</p>\n",
       "</div>"
      ],
      "text/plain": [
       "               city  average_flights\n",
       "0            Абакан         3.870968\n",
       "1           Анадырь         1.000000\n",
       "2             Анапа         2.161290\n",
       "3       Архангельск         5.354839\n",
       "4         Астрахань         2.451613\n",
       "..              ...              ...\n",
       "96             Чита         1.580645\n",
       "97           Элиста         4.870968\n",
       "98   Южно-Сахалинск         4.290323\n",
       "99           Якутск         2.741935\n",
       "100       Ярославль         1.322581\n",
       "\n",
       "[101 rows x 2 columns]"
      ]
     },
     "execution_count": 3,
     "metadata": {},
     "output_type": "execute_result"
    }
   ],
   "source": [
    "df_city = pd.read_csv('/datasets/query_3.csv') # прочитаем файл csv и сохраним данные в таблицу df_city\n",
    "df_city"
   ]
  },
  {
   "cell_type": "markdown",
   "metadata": {},
   "source": [
    "### Вывод_шаг1:\n",
    "Данные импортировали и сохранили в таблицы. Данные готовы для изучения."
   ]
  },
  {
   "cell_type": "markdown",
   "metadata": {},
   "source": [
    "## Шаг 2: Изучим даные в таблицах и типы данных"
   ]
  },
  {
   "cell_type": "code",
   "execution_count": 4,
   "metadata": {
    "scrolled": true
   },
   "outputs": [
    {
     "data": {
      "text/html": [
       "<div>\n",
       "<style scoped>\n",
       "    .dataframe tbody tr th:only-of-type {\n",
       "        vertical-align: middle;\n",
       "    }\n",
       "\n",
       "    .dataframe tbody tr th {\n",
       "        vertical-align: top;\n",
       "    }\n",
       "\n",
       "    .dataframe thead th {\n",
       "        text-align: right;\n",
       "    }\n",
       "</style>\n",
       "<table border=\"1\" class=\"dataframe\">\n",
       "  <thead>\n",
       "    <tr style=\"text-align: right;\">\n",
       "      <th></th>\n",
       "      <th>model</th>\n",
       "      <th>flights_amount</th>\n",
       "    </tr>\n",
       "  </thead>\n",
       "  <tbody>\n",
       "    <tr>\n",
       "      <td>0</td>\n",
       "      <td>Airbus A319-100</td>\n",
       "      <td>607</td>\n",
       "    </tr>\n",
       "    <tr>\n",
       "      <td>1</td>\n",
       "      <td>Airbus A321-200</td>\n",
       "      <td>960</td>\n",
       "    </tr>\n",
       "    <tr>\n",
       "      <td>2</td>\n",
       "      <td>Boeing 737-300</td>\n",
       "      <td>630</td>\n",
       "    </tr>\n",
       "    <tr>\n",
       "      <td>3</td>\n",
       "      <td>Boeing 767-300</td>\n",
       "      <td>600</td>\n",
       "    </tr>\n",
       "    <tr>\n",
       "      <td>4</td>\n",
       "      <td>Boeing 777-300</td>\n",
       "      <td>300</td>\n",
       "    </tr>\n",
       "    <tr>\n",
       "      <td>5</td>\n",
       "      <td>Bombardier CRJ-200</td>\n",
       "      <td>4446</td>\n",
       "    </tr>\n",
       "    <tr>\n",
       "      <td>6</td>\n",
       "      <td>Cessna 208 Caravan</td>\n",
       "      <td>4557</td>\n",
       "    </tr>\n",
       "    <tr>\n",
       "      <td>7</td>\n",
       "      <td>Sukhoi SuperJet-100</td>\n",
       "      <td>4185</td>\n",
       "    </tr>\n",
       "  </tbody>\n",
       "</table>\n",
       "</div>"
      ],
      "text/plain": [
       "                 model  flights_amount\n",
       "0      Airbus A319-100             607\n",
       "1      Airbus A321-200             960\n",
       "2       Boeing 737-300             630\n",
       "3       Boeing 767-300             600\n",
       "4       Boeing 777-300             300\n",
       "5   Bombardier CRJ-200            4446\n",
       "6   Cessna 208 Caravan            4557\n",
       "7  Sukhoi SuperJet-100            4185"
      ]
     },
     "execution_count": 4,
     "metadata": {},
     "output_type": "execute_result"
    }
   ],
   "source": [
    "df_model.head(10) # напечатаем первые 10 строк таблицы df_model"
   ]
  },
  {
   "cell_type": "code",
   "execution_count": 5,
   "metadata": {
    "scrolled": true
   },
   "outputs": [
    {
     "name": "stdout",
     "output_type": "stream",
     "text": [
      "<class 'pandas.core.frame.DataFrame'>\n",
      "RangeIndex: 8 entries, 0 to 7\n",
      "Data columns (total 2 columns):\n",
      "model             8 non-null object\n",
      "flights_amount    8 non-null int64\n",
      "dtypes: int64(1), object(1)\n",
      "memory usage: 256.0+ bytes\n"
     ]
    }
   ],
   "source": [
    "df_model.info() # вызовем метод info() для получения данных о таблице df_model"
   ]
  },
  {
   "cell_type": "code",
   "execution_count": 6,
   "metadata": {
    "scrolled": false
   },
   "outputs": [
    {
     "data": {
      "text/html": [
       "<div>\n",
       "<style scoped>\n",
       "    .dataframe tbody tr th:only-of-type {\n",
       "        vertical-align: middle;\n",
       "    }\n",
       "\n",
       "    .dataframe tbody tr th {\n",
       "        vertical-align: top;\n",
       "    }\n",
       "\n",
       "    .dataframe thead th {\n",
       "        text-align: right;\n",
       "    }\n",
       "</style>\n",
       "<table border=\"1\" class=\"dataframe\">\n",
       "  <thead>\n",
       "    <tr style=\"text-align: right;\">\n",
       "      <th></th>\n",
       "      <th>city</th>\n",
       "      <th>average_flights</th>\n",
       "    </tr>\n",
       "  </thead>\n",
       "  <tbody>\n",
       "    <tr>\n",
       "      <td>0</td>\n",
       "      <td>Абакан</td>\n",
       "      <td>3.870968</td>\n",
       "    </tr>\n",
       "    <tr>\n",
       "      <td>1</td>\n",
       "      <td>Анадырь</td>\n",
       "      <td>1.000000</td>\n",
       "    </tr>\n",
       "    <tr>\n",
       "      <td>2</td>\n",
       "      <td>Анапа</td>\n",
       "      <td>2.161290</td>\n",
       "    </tr>\n",
       "    <tr>\n",
       "      <td>3</td>\n",
       "      <td>Архангельск</td>\n",
       "      <td>5.354839</td>\n",
       "    </tr>\n",
       "    <tr>\n",
       "      <td>4</td>\n",
       "      <td>Астрахань</td>\n",
       "      <td>2.451613</td>\n",
       "    </tr>\n",
       "    <tr>\n",
       "      <td>5</td>\n",
       "      <td>Барнаул</td>\n",
       "      <td>2.612903</td>\n",
       "    </tr>\n",
       "    <tr>\n",
       "      <td>6</td>\n",
       "      <td>Белгород</td>\n",
       "      <td>6.000000</td>\n",
       "    </tr>\n",
       "    <tr>\n",
       "      <td>7</td>\n",
       "      <td>Белоярский</td>\n",
       "      <td>2.000000</td>\n",
       "    </tr>\n",
       "    <tr>\n",
       "      <td>8</td>\n",
       "      <td>Благовещенск</td>\n",
       "      <td>1.000000</td>\n",
       "    </tr>\n",
       "    <tr>\n",
       "      <td>9</td>\n",
       "      <td>Братск</td>\n",
       "      <td>1.000000</td>\n",
       "    </tr>\n",
       "  </tbody>\n",
       "</table>\n",
       "</div>"
      ],
      "text/plain": [
       "           city  average_flights\n",
       "0        Абакан         3.870968\n",
       "1       Анадырь         1.000000\n",
       "2         Анапа         2.161290\n",
       "3   Архангельск         5.354839\n",
       "4     Астрахань         2.451613\n",
       "5       Барнаул         2.612903\n",
       "6      Белгород         6.000000\n",
       "7    Белоярский         2.000000\n",
       "8  Благовещенск         1.000000\n",
       "9        Братск         1.000000"
      ]
     },
     "execution_count": 6,
     "metadata": {},
     "output_type": "execute_result"
    }
   ],
   "source": [
    "df_city.head(10) # напечатаем первые 10 строк таблицы df_city"
   ]
  },
  {
   "cell_type": "code",
   "execution_count": 7,
   "metadata": {},
   "outputs": [
    {
     "name": "stdout",
     "output_type": "stream",
     "text": [
      "<class 'pandas.core.frame.DataFrame'>\n",
      "RangeIndex: 101 entries, 0 to 100\n",
      "Data columns (total 2 columns):\n",
      "city               101 non-null object\n",
      "average_flights    101 non-null float64\n",
      "dtypes: float64(1), object(1)\n",
      "memory usage: 1.7+ KB\n"
     ]
    }
   ],
   "source": [
    "df_city.info() # вызовем метод info() для получения данных о таблице df_city"
   ]
  },
  {
   "cell_type": "code",
   "execution_count": 8,
   "metadata": {},
   "outputs": [
    {
     "data": {
      "text/plain": [
       "array(['Абакан', 'Анадырь', 'Анапа', 'Архангельск', 'Астрахань',\n",
       "       'Барнаул', 'Белгород', 'Белоярский', 'Благовещенск', 'Братск',\n",
       "       'Брянск', 'Бугульма', 'Владивосток', 'Владикавказ', 'Волгоград',\n",
       "       'Воркута', 'Воронеж', 'Геленджик', 'Горно-Алтайск', 'Грозный',\n",
       "       'Екатеринбург', 'Иваново', 'Ижевск', 'Иркутск', 'Йошкар-Ола',\n",
       "       'Казань', 'Калининград', 'Калуга', 'Кемерово', 'Киров', 'Когалым',\n",
       "       'Комсомольск-на-Амуре', 'Краснодар', 'Красноярск', 'Курган',\n",
       "       'Курск', 'Кызыл', 'Липецк', 'Магадан', 'Магнитогорск', 'Махачкала',\n",
       "       'Минеральные Воды', 'Мирный', 'Москва', 'Мурманск', 'Надым',\n",
       "       'Нальчик', 'Нарьян-Мар', 'Нерюнгри', 'Нефтеюганск',\n",
       "       'Нижневартовск', 'Нижнекамск', 'Нижний Новгород', 'Новокузнецк',\n",
       "       'Новосибирск', 'Новый Уренгой', 'Норильск', 'Ноябрьск', 'Нягань',\n",
       "       'Омск', 'Оренбург', 'Орск', 'Пенза', 'Пермь', 'Петрозаводск',\n",
       "       'Петропавловск-Камчатский', 'Псков', 'Ростов-на-Дону', 'Салехард',\n",
       "       'Самара', 'Санкт-Петербург', 'Саранск', 'Саратов', 'Советский',\n",
       "       'Сочи', 'Ставрополь', 'Стрежевой', 'Сургут', 'Сыктывкар', 'Тамбов',\n",
       "       'Томск', 'Тюмень', 'Удачный', 'Улан-Удэ', 'Ульяновск', 'Урай',\n",
       "       'Усинск', 'Усть-Илимск', 'Усть-Кут', 'Уфа', 'Ухта', 'Хабаровск',\n",
       "       'Ханты-Мансийск', 'Чебоксары', 'Челябинск', 'Череповец', 'Чита',\n",
       "       'Элиста', 'Южно-Сахалинск', 'Якутск', 'Ярославль'], dtype=object)"
      ]
     },
     "execution_count": 8,
     "metadata": {},
     "output_type": "execute_result"
    }
   ],
   "source": [
    "df_city.city.unique() # напечатаем уникальные значения и количество 'city'"
   ]
  },
  {
   "cell_type": "code",
   "execution_count": 9,
   "metadata": {},
   "outputs": [
    {
     "data": {
      "text/plain": [
       "Нижний Новгород    1\n",
       "Петрозаводск       1\n",
       "Санкт-Петербург    1\n",
       "Челябинск          1\n",
       "Владивосток        1\n",
       "                  ..\n",
       "Нягань             1\n",
       "Усть-Илимск        1\n",
       "Екатеринбург       1\n",
       "Братск             1\n",
       "Тамбов             1\n",
       "Name: city, Length: 101, dtype: int64"
      ]
     },
     "execution_count": 9,
     "metadata": {},
     "output_type": "execute_result"
    }
   ],
   "source": [
    "df_city.city.value_counts() # посчитаем уникальные значения и количество 'city'"
   ]
  },
  {
   "cell_type": "code",
   "execution_count": 10,
   "metadata": {},
   "outputs": [
    {
     "data": {
      "text/plain": [
       "0"
      ]
     },
     "execution_count": 10,
     "metadata": {},
     "output_type": "execute_result"
    }
   ],
   "source": [
    "df_city.duplicated().sum() # подсчитаем количества дубликатов в df_city, вызовем метод duplicated() и sum()"
   ]
  },
  {
   "cell_type": "code",
   "execution_count": 11,
   "metadata": {},
   "outputs": [
    {
     "data": {
      "text/plain": [
       "city               0\n",
       "average_flights    0\n",
       "dtype: int64"
      ]
     },
     "execution_count": 11,
     "metadata": {},
     "output_type": "execute_result"
    }
   ],
   "source": [
    "df_city.isnull().sum() # проверим данные на наличие пропусков "
   ]
  },
  {
   "cell_type": "code",
   "execution_count": 12,
   "metadata": {},
   "outputs": [],
   "source": [
    "# Округлим количество рейсов\n",
    "\n",
    "df_city.average_flights = np.ceil(df_city.average_flights)"
   ]
  },
  {
   "cell_type": "code",
   "execution_count": 13,
   "metadata": {},
   "outputs": [],
   "source": [
    "# приведем тип данных столбца 'average_flights' к целочисленному\n",
    "\n",
    "df_city.average_flights = df_city.average_flights.astype('int')"
   ]
  },
  {
   "cell_type": "markdown",
   "metadata": {},
   "source": [
    "### Вывод_шаг2:\n",
    "\n",
    "В таблице df_model 8 строк и 2 cтолбца. Тип данные у столбца 'flights_amount' целочисленный int64. \n",
    "\n",
    "В таблице df_city 110 строк и 2 столбца. В таблице отсутствуют пропуски и дубликаты. Тип данных у столбца 'average_flights' float64. \n",
    "\n",
    "Данных столбца 'average_flights' округлили и привели к целочисленному типу данных (int64), т.к. количество рейсов целые числа."
   ]
  },
  {
   "cell_type": "markdown",
   "metadata": {},
   "source": [
    "## Шаг 3: Выберем топ-10 городов по количеству рейсов"
   ]
  },
  {
   "cell_type": "code",
   "execution_count": 14,
   "metadata": {},
   "outputs": [
    {
     "data": {
      "text/html": [
       "<div>\n",
       "<style scoped>\n",
       "    .dataframe tbody tr th:only-of-type {\n",
       "        vertical-align: middle;\n",
       "    }\n",
       "\n",
       "    .dataframe tbody tr th {\n",
       "        vertical-align: top;\n",
       "    }\n",
       "\n",
       "    .dataframe thead th {\n",
       "        text-align: right;\n",
       "    }\n",
       "</style>\n",
       "<table border=\"1\" class=\"dataframe\">\n",
       "  <thead>\n",
       "    <tr style=\"text-align: right;\">\n",
       "      <th></th>\n",
       "      <th>average_flights</th>\n",
       "    </tr>\n",
       "    <tr>\n",
       "      <th>city</th>\n",
       "      <th></th>\n",
       "    </tr>\n",
       "  </thead>\n",
       "  <tbody>\n",
       "    <tr>\n",
       "      <td>Москва</td>\n",
       "      <td>130</td>\n",
       "    </tr>\n",
       "    <tr>\n",
       "      <td>Санкт-Петербург</td>\n",
       "      <td>32</td>\n",
       "    </tr>\n",
       "    <tr>\n",
       "      <td>Новосибирск</td>\n",
       "      <td>18</td>\n",
       "    </tr>\n",
       "    <tr>\n",
       "      <td>Красноярск</td>\n",
       "      <td>12</td>\n",
       "    </tr>\n",
       "    <tr>\n",
       "      <td>Екатеринбург</td>\n",
       "      <td>12</td>\n",
       "    </tr>\n",
       "    <tr>\n",
       "      <td>Пермь</td>\n",
       "      <td>11</td>\n",
       "    </tr>\n",
       "    <tr>\n",
       "      <td>Ростов-на-Дону</td>\n",
       "      <td>11</td>\n",
       "    </tr>\n",
       "    <tr>\n",
       "      <td>Брянск</td>\n",
       "      <td>10</td>\n",
       "    </tr>\n",
       "    <tr>\n",
       "      <td>Ульяновск</td>\n",
       "      <td>10</td>\n",
       "    </tr>\n",
       "    <tr>\n",
       "      <td>Сочи</td>\n",
       "      <td>10</td>\n",
       "    </tr>\n",
       "  </tbody>\n",
       "</table>\n",
       "</div>"
      ],
      "text/plain": [
       "                 average_flights\n",
       "city                            \n",
       "Москва                       130\n",
       "Санкт-Петербург               32\n",
       "Новосибирск                   18\n",
       "Красноярск                    12\n",
       "Екатеринбург                  12\n",
       "Пермь                         11\n",
       "Ростов-на-Дону                11\n",
       "Брянск                        10\n",
       "Ульяновск                     10\n",
       "Сочи                          10"
      ]
     },
     "execution_count": 14,
     "metadata": {},
     "output_type": "execute_result"
    }
   ],
   "source": [
    "# Топ-10 городов по кол-ву рейсов в августе 2018:\n",
    "\n",
    "top10 = df_city.pivot_table(index='city', values='average_flights')\\\n",
    "        .sort_values(by= 'average_flights', ascending = False).head(10)\n",
    "top10"
   ]
  },
  {
   "cell_type": "markdown",
   "metadata": {},
   "source": [
    "### Вывод_шаг3:\n",
    "\n",
    "Самым популятным пунктом прилета в августе 2018 г. была Москва. \n",
    "\n",
    "Вероятно всегда количество прилетов в Москву будет больше, чем в любой другой город России. Это связано с тем, что в Москва крупнейший по численности населения город России, также Москва — крупнейший в общероссийском масштабе финансовый центр, международный деловой центр, промышленный, научный, образовательный и туристический центр. В Москву прилетают самолеты со всей России, стран СНГ и зарубежья. Здесь основной пункт пересадки на рейсы других направлений. \n",
    "\n",
    "На втором месте Санкт-Петербург - второй по численности населения город России. Санкт-Петербург — важный экономический, научный и культурный центр России, крупный транспортный узел и туристический центр. В Санкт-Петербург прилетают пассажиры со всего мира. Количество рейсов в Санкт-петербург в 4 раза меньше, чем в Москву.\n",
    "\n",
    "На третьем месте Новосибирск. Третий по численности населения город России. Новосибирск - крупнейший торговый, деловой, культурный, транспортный, образовательный и научный центр Сибири. \n",
    "\n",
    "В топ также попали другие города миллионики: Красноярск, Екатеринбург, Ростов-на-дону, Пермь, а также Брянск и Ульяновск. В этих городах находятся крупные аэропорты. Регулярные пассажирские рейсы в этих городах связаны со многими крупнейшими городами России и/или другими странами. \n",
    "\n",
    "Сочи также попал в Топ-10, т.к. это самый крупный и популярный курорт в России на Черноморском побережье. В августе многие ездят отдыхать в Сочи.\n",
    "\n",
    "Также, в целом, август это период отпусков, время прилета студентов из других городов в крупные города."
   ]
  },
  {
   "cell_type": "markdown",
   "metadata": {},
   "source": [
    "### Шаг 4: Графики"
   ]
  },
  {
   "cell_type": "markdown",
   "metadata": {},
   "source": [
    "Построим графики: \n",
    "\n",
    "1) модели самолетов и количество рейсов, \n",
    "\n",
    "2) города и количество рейсов, \n",
    "\n",
    "3) топ-10 городов и количество рейсов"
   ]
  },
  {
   "cell_type": "code",
   "execution_count": 15,
   "metadata": {},
   "outputs": [
    {
     "data": {
      "text/html": [
       "<div>\n",
       "<style scoped>\n",
       "    .dataframe tbody tr th:only-of-type {\n",
       "        vertical-align: middle;\n",
       "    }\n",
       "\n",
       "    .dataframe tbody tr th {\n",
       "        vertical-align: top;\n",
       "    }\n",
       "\n",
       "    .dataframe thead th {\n",
       "        text-align: right;\n",
       "    }\n",
       "</style>\n",
       "<table border=\"1\" class=\"dataframe\">\n",
       "  <thead>\n",
       "    <tr style=\"text-align: right;\">\n",
       "      <th></th>\n",
       "      <th>flights_amount</th>\n",
       "    </tr>\n",
       "    <tr>\n",
       "      <th>model</th>\n",
       "      <th></th>\n",
       "    </tr>\n",
       "  </thead>\n",
       "  <tbody>\n",
       "    <tr>\n",
       "      <td>Cessna 208 Caravan</td>\n",
       "      <td>4557</td>\n",
       "    </tr>\n",
       "    <tr>\n",
       "      <td>Bombardier CRJ-200</td>\n",
       "      <td>4446</td>\n",
       "    </tr>\n",
       "    <tr>\n",
       "      <td>Sukhoi SuperJet-100</td>\n",
       "      <td>4185</td>\n",
       "    </tr>\n",
       "    <tr>\n",
       "      <td>Airbus A321-200</td>\n",
       "      <td>960</td>\n",
       "    </tr>\n",
       "    <tr>\n",
       "      <td>Boeing 737-300</td>\n",
       "      <td>630</td>\n",
       "    </tr>\n",
       "    <tr>\n",
       "      <td>Airbus A319-100</td>\n",
       "      <td>607</td>\n",
       "    </tr>\n",
       "    <tr>\n",
       "      <td>Boeing 767-300</td>\n",
       "      <td>600</td>\n",
       "    </tr>\n",
       "    <tr>\n",
       "      <td>Boeing 777-300</td>\n",
       "      <td>300</td>\n",
       "    </tr>\n",
       "  </tbody>\n",
       "</table>\n",
       "</div>"
      ],
      "text/plain": [
       "                     flights_amount\n",
       "model                              \n",
       "Cessna 208 Caravan             4557\n",
       "Bombardier CRJ-200             4446\n",
       "Sukhoi SuperJet-100            4185\n",
       "Airbus A321-200                 960\n",
       "Boeing 737-300                  630\n",
       "Airbus A319-100                 607\n",
       "Boeing 767-300                  600\n",
       "Boeing 777-300                  300"
      ]
     },
     "execution_count": 15,
     "metadata": {},
     "output_type": "execute_result"
    }
   ],
   "source": [
    "# выведем таблицу df_model отсортированнуб по убыванию количества прилетов\n",
    "\n",
    "df_model_top = df_model.pivot_table(index='model', values='flights_amount').sort_values(by= 'flights_amount', ascending = False)\n",
    "df_model_top"
   ]
  },
  {
   "cell_type": "code",
   "execution_count": 16,
   "metadata": {},
   "outputs": [
    {
     "data": {
      "image/png": "[encoded data removed]",
      "text/plain": [
       "<Figure size 864x432 with 1 Axes>"
      ]
     },
     "metadata": {
      "needs_background": "light"
     },
     "output_type": "display_data"
    }
   ],
   "source": [
    "# Построим график зависимости моделей самолетов и количества рейсов в сентябре 2018г.\n",
    "\n",
    "(df_model\n",
    " .pivot_table(index='model', values='flights_amount')\n",
    " .sort_values(by= 'flights_amount', ascending = True)\n",
    " .plot(y='flights_amount', kind='barh', grid=True, figsize=(12, 6))\n",
    ")\n",
    "plt.xlabel('Количество рейсов')\n",
    "plt.ylabel('Модель самолета')\n",
    "plt.title('Количество рейсов по моделям самолетов в сентябре 2018г.')\n",
    "plt.legend(['flights_amount'])\n",
    "plt.show;"
   ]
  },
  {
   "cell_type": "code",
   "execution_count": 17,
   "metadata": {},
   "outputs": [
    {
     "data": {
      "text/html": [
       "<div>\n",
       "<style scoped>\n",
       "    .dataframe tbody tr th:only-of-type {\n",
       "        vertical-align: middle;\n",
       "    }\n",
       "\n",
       "    .dataframe tbody tr th {\n",
       "        vertical-align: top;\n",
       "    }\n",
       "\n",
       "    .dataframe thead th {\n",
       "        text-align: right;\n",
       "    }\n",
       "</style>\n",
       "<table border=\"1\" class=\"dataframe\">\n",
       "  <thead>\n",
       "    <tr style=\"text-align: right;\">\n",
       "      <th></th>\n",
       "      <th>average_flights</th>\n",
       "    </tr>\n",
       "    <tr>\n",
       "      <th>city</th>\n",
       "      <th></th>\n",
       "    </tr>\n",
       "  </thead>\n",
       "  <tbody>\n",
       "    <tr>\n",
       "      <td>Москва</td>\n",
       "      <td>130</td>\n",
       "    </tr>\n",
       "    <tr>\n",
       "      <td>Санкт-Петербург</td>\n",
       "      <td>32</td>\n",
       "    </tr>\n",
       "    <tr>\n",
       "      <td>Новосибирск</td>\n",
       "      <td>18</td>\n",
       "    </tr>\n",
       "    <tr>\n",
       "      <td>Красноярск</td>\n",
       "      <td>12</td>\n",
       "    </tr>\n",
       "    <tr>\n",
       "      <td>Екатеринбург</td>\n",
       "      <td>12</td>\n",
       "    </tr>\n",
       "    <tr>\n",
       "      <td>Пермь</td>\n",
       "      <td>11</td>\n",
       "    </tr>\n",
       "    <tr>\n",
       "      <td>Ростов-на-Дону</td>\n",
       "      <td>11</td>\n",
       "    </tr>\n",
       "    <tr>\n",
       "      <td>Брянск</td>\n",
       "      <td>10</td>\n",
       "    </tr>\n",
       "    <tr>\n",
       "      <td>Ульяновск</td>\n",
       "      <td>10</td>\n",
       "    </tr>\n",
       "    <tr>\n",
       "      <td>Сочи</td>\n",
       "      <td>10</td>\n",
       "    </tr>\n",
       "    <tr>\n",
       "      <td>Новый Уренгой</td>\n",
       "      <td>9</td>\n",
       "    </tr>\n",
       "    <tr>\n",
       "      <td>Сургут</td>\n",
       "      <td>9</td>\n",
       "    </tr>\n",
       "    <tr>\n",
       "      <td>Ханты-Мансийск</td>\n",
       "      <td>9</td>\n",
       "    </tr>\n",
       "    <tr>\n",
       "      <td>Советский</td>\n",
       "      <td>9</td>\n",
       "    </tr>\n",
       "    <tr>\n",
       "      <td>Казань</td>\n",
       "      <td>8</td>\n",
       "    </tr>\n",
       "    <tr>\n",
       "      <td>Новокузнецк</td>\n",
       "      <td>7</td>\n",
       "    </tr>\n",
       "    <tr>\n",
       "      <td>Челябинск</td>\n",
       "      <td>7</td>\n",
       "    </tr>\n",
       "    <tr>\n",
       "      <td>Уфа</td>\n",
       "      <td>7</td>\n",
       "    </tr>\n",
       "    <tr>\n",
       "      <td>Мирный</td>\n",
       "      <td>7</td>\n",
       "    </tr>\n",
       "    <tr>\n",
       "      <td>Хабаровск</td>\n",
       "      <td>7</td>\n",
       "    </tr>\n",
       "  </tbody>\n",
       "</table>\n",
       "</div>"
      ],
      "text/plain": [
       "                 average_flights\n",
       "city                            \n",
       "Москва                       130\n",
       "Санкт-Петербург               32\n",
       "Новосибирск                   18\n",
       "Красноярск                    12\n",
       "Екатеринбург                  12\n",
       "Пермь                         11\n",
       "Ростов-на-Дону                11\n",
       "Брянск                        10\n",
       "Ульяновск                     10\n",
       "Сочи                          10\n",
       "Новый Уренгой                  9\n",
       "Сургут                         9\n",
       "Ханты-Мансийск                 9\n",
       "Советский                      9\n",
       "Казань                         8\n",
       "Новокузнецк                    7\n",
       "Челябинск                      7\n",
       "Уфа                            7\n",
       "Мирный                         7\n",
       "Хабаровск                      7"
      ]
     },
     "execution_count": 17,
     "metadata": {},
     "output_type": "execute_result"
    }
   ],
   "source": [
    "# Таблица с данными о среднем кол-ве прилетов в день по городам отсортированная по убыванию\n",
    "\n",
    "df_city_flights = df_city.pivot_table(index='city', values='average_flights').sort_values(by= 'average_flights', ascending = False)\n",
    "df_city_flights.head(20)"
   ]
  },
  {
   "cell_type": "code",
   "execution_count": 18,
   "metadata": {
    "scrolled": true
   },
   "outputs": [
    {
     "data": {
      "image/png": "[encoded data removed]",
      "text/plain": [
       "<Figure size 864x3600 with 1 Axes>"
      ]
     },
     "metadata": {
      "needs_background": "light"
     },
     "output_type": "display_data"
    }
   ],
   "source": [
    "# Построим график среднего количества рейсов по городам в августе 2018 г.\n",
    "\n",
    "(df_city\n",
    " .pivot_table(index='city', values='average_flights')\n",
    " .sort_values(by= 'average_flights', ascending = True)\n",
    " .plot(y='average_flights', kind='barh',grid=True, figsize=(12, 50))\n",
    ")\n",
    "plt.xlabel('Среднее количество рейсов в день')\n",
    "plt.ylabel('Город')\n",
    "plt.title('Среднее количество рейсов в день по городам в августе 2018г.')\n",
    "plt.legend(['average_flights'])\n",
    "plt.show;"
   ]
  },
  {
   "cell_type": "code",
   "execution_count": 19,
   "metadata": {},
   "outputs": [
    {
     "data": {
      "text/plain": [
       "3      21\n",
       "2      19\n",
       "4      13\n",
       "1      12\n",
       "5       8\n",
       "7       7\n",
       "6       6\n",
       "9       4\n",
       "10      3\n",
       "12      2\n",
       "11      2\n",
       "32      1\n",
       "18      1\n",
       "130     1\n",
       "8       1\n",
       "Name: average_flights, dtype: int64"
      ]
     },
     "execution_count": 19,
     "metadata": {},
     "output_type": "execute_result"
    }
   ],
   "source": [
    "df_city.average_flights.value_counts() # посчитаем количество строк с одинаковыми значениями в столбце 'average_flights'"
   ]
  },
  {
   "cell_type": "code",
   "execution_count": 20,
   "metadata": {},
   "outputs": [
    {
     "data": {
      "image/png": "[encoded data removed]",
      "text/plain": [
       "<Figure size 864x432 with 1 Axes>"
      ]
     },
     "metadata": {
      "needs_background": "light"
     },
     "output_type": "display_data"
    }
   ],
   "source": [
    "# Построим график ТОП-10 городов по количеству рейсов в августе 2018г.:\n",
    "\n",
    "top10.sort_values(by= 'average_flights', ascending = True).plot(y='average_flights', kind='barh',grid=True, figsize=(12, 6))\n",
    "plt.xlabel('Среднее количество рейсов')\n",
    "plt.ylabel('Город')\n",
    "plt.title('ТОП-10 городов по количеству рейсов в августе 2018г.')\n",
    "plt.legend(['average_flights'])\n",
    "plt.show;"
   ]
  },
  {
   "cell_type": "markdown",
   "metadata": {},
   "source": [
    "### Вывод_шаг4:\n",
    "\n",
    "Построили графики:\n",
    "\n",
    "* 'Количество рейсов по моделям самолетов в сентябре 2018г.'\n",
    "* 'Среднее количество рейсов в день по городам в августе 2018г.'\n",
    "* 'ТОП-10 городов по количеству рейсов в августе 2018г.'"
   ]
  },
  {
   "cell_type": "markdown",
   "metadata": {},
   "source": [
    "## Выводы:\n",
    "\n",
    "**1.** По данным графика 'Количество рейсов по моделям самолетов в сентябре 2018г.' самая популярная модель самолетов по количеству рейсов в сентябре 2018г. - Cessna 208 Caravan (4557 рейсов).\n",
    "Отметим, что Cessna 208 Caravan - американский лёгкий одномоторный турбовинтовой самолёт общего назначения с неубирающимся шасси. Используется на авиалиниях малой протяжённости.\n",
    "\n",
    "На втором месте Bombardier CRJ-200 (4446 рейсов), на третьем Sukhoi SuperJet-100 (4185 рейсов). Данные по этим трем моделям примерно одинаковые. \n",
    "\n",
    "На четветром месте Airbus A321-200\t(960 рейсов). Затем идут модели Boeing 737-300 (630 рейсов), Airbus A319-100 (607 рейсов) и Boeing 767-300 (600) с примерно одинаковым количеством рейсов. Меньше всего рейсов у самолетов модели - Boeing 777-300 (300 рейсов).\n",
    "\n",
    "Данные по моделям самолетов представлены для всего мира и нельзя сказать, что для городов России этот топ будет таким же. Скорее всего для России самыми популярными будут самолеты моделей Sukhoi SuperJet-100 и модели Boeing и Airbus.\n",
    "\n",
    "\n",
    "**2.** На графике 'Среднее количество рейсов в день по городам в августе 2018г.'  видно, что только для первых 10 городов, количество рейсов от 10 и более. Для остальных городов количества рейсов от 1 - до 9.\n",
    "\n",
    "Для большинства городов, количество прибывающих рейсов в день составляет: \n",
    "* для 21 города - 3 рейса, \n",
    "* для 19 городов - 2 рейса, \n",
    "* для 13 городов - 4 рейса, \n",
    "* для 12 городов - 1 рейс,\n",
    "* для 8 городов - 5 рейсов,\n",
    "* для 7 городов - 7 рейсов,\n",
    "* для 6 городов - 6 рейсов,\n",
    "* для 4 городов - 9 рейсов.\n",
    "\n",
    "Малое количество рейсов связано в первыю очерель с небольшой численностью населения в данных городах.\n",
    "\n",
    "\n",
    "**3.** Согласно графику 'ТОП-10 городов по количеству рейсов в августе 2018г.' самый популярный город прилета в августе 2018г. - Москва (130 рейсов в день). На втором место - Санкт-петербург (32 рейса) и на третьем месте -Новосибирск (18 рейсов за день). Для остальных городов в топ-10 количество рейсов примерно одиноковое.\n",
    "\n",
    "Вероятно всегда количество прилетов в Москву будет больше, чем в любой другой город России. Это связано с тем, что в Москва крупнейший по численности населения город России, также Москва — крупнейший в общероссийском масштабе финансовый центр, международный деловой центр, промышленный, научный, образовательный и туристический центр. В Москву прилетают самолеты со всей России, стран СНГ и зарубежья. Здесь основной пункт пересадки на рейсы других направлений. \n",
    "\n",
    "На втором месте Санкт-Петербург - второй по численности населения город России. Санкт-Петербург — важный экономический, научный и культурный центр России, крупный транспортный узел и туристический центр. В Санкт-Петербург прилетают пассажиры со всего мира. Количество рейсов в Санкт-петербург в 4 раза меньше, чем в Москву.\n",
    "\n",
    "На третьем месте Новосибирск. Третий по численности населения город России. Новосибирск - крупнейший торговый, деловой, культурный, транспортный, образовательный и научный центр Сибири.  Количество рейсов в Новосибирск почти в 14 раза меньше, чем в Москву. \n",
    "\n",
    "В ТОП-10 также попали другие города миллионики: Красноярск, Екатеринбург, Ростов-на-дону, Пермь, а также Брянск и Ульяновск. В этих городах находятся крупные аэропорты. Регулярные пассажирские рейсы в этих городах связаны со многими крупнейшими городами России и/или другими странами. \n",
    "\n",
    "Сочи также попал в Топ-10, т.к. это самый крупный и популярный курорт в России на Черноморском побережье. В августе многие ездят отдыхать в Сочи.\n",
    "\n",
    "Также, в целом, август это период отпусков, время прилета студентов из других городов в крупные города."
   ]
  }
 ],
 "metadata": {
  "kernelspec": {
   "display_name": "Python 3 (ipykernel)",
   "language": "python",
   "name": "python3"
  },
  "language_info": {
   "codemirror_mode": {
    "name": "ipython",
    "version": 3
   },
   "file_extension": ".py",
   "mimetype": "text/x-python",
   "name": "python",
   "nbconvert_exporter": "python",
   "pygments_lexer": "ipython3",
   "version": "3.9.7"
  },
  "toc": {
   "base_numbering": 1,
   "nav_menu": {},
   "number_sections": true,
   "sideBar": true,
   "skip_h1_title": false,
   "title_cell": "Table of Contents",
   "title_sidebar": "Contents",
   "toc_cell": false,
   "toc_position": {},
   "toc_section_display": true,
   "toc_window_display": false
  }
 },
 "nbformat": 4,
 "nbformat_minor": 2
}
